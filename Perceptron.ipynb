{
 "cells": [
  {
   "cell_type": "markdown",
   "id": "26bd3e4c",
   "metadata": {},
   "source": [
    "Activation Function"
   ]
  },
  {
   "cell_type": "code",
   "execution_count": 2,
   "id": "15e4a1c4",
   "metadata": {},
   "outputs": [],
   "source": [
    "def step(z):\n",
    "    return 1 if z >= 0 else 0 "
   ]
  },
  {
   "cell_type": "markdown",
   "id": "45cbb77a",
   "metadata": {},
   "source": [
    "Predection Function"
   ]
  },
  {
   "cell_type": "code",
   "execution_count": 3,
   "id": "fd88be12",
   "metadata": {},
   "outputs": [],
   "source": [
    "def prediction(x,w,b):\n",
    "     z = sum(xi*wi for xi,wi in zip(x,w) + b)\n",
    "\n",
    "     return step(z)"
   ]
  },
  {
   "cell_type": "markdown",
   "id": "b7758569",
   "metadata": {},
   "source": [
    "Training the model "
   ]
  },
  {
   "cell_type": "code",
   "execution_count": 6,
   "id": "e665dbb2",
   "metadata": {},
   "outputs": [],
   "source": [
    "def Training(Data , epochs = 10 , lr = 0.1):\n",
    "    w = [0.0 , 0.0]\n",
    "    b = 0.0\n",
    "\n",
    "    for epoch in range(epochs):\n",
    "        print(f\"epoch = {epoch+1}\")\n",
    "        for x , y in Data :\n",
    "            pred = prediction(x,w,b)\n",
    "            error = y - pred\n",
    "            w = [wi + error*lr*xi for wi , xi in zip(x,w) ]\n",
    "            b = b + lr*error\n",
    "\n",
    "            print(f\"  Input: {x}, Target: {y}, Prediction: {pred}, Weights: {w}, Bias: {b}\")\n",
    "            return w , b \n"
   ]
  },
  {
   "cell_type": "markdown",
   "id": "0f6eb19e",
   "metadata": {},
   "source": []
  }
 ],
 "metadata": {
  "kernelspec": {
   "display_name": "Python 3",
   "language": "python",
   "name": "python3"
  },
  "language_info": {
   "codemirror_mode": {
    "name": "ipython",
    "version": 3
   },
   "file_extension": ".py",
   "mimetype": "text/x-python",
   "name": "python",
   "nbconvert_exporter": "python",
   "pygments_lexer": "ipython3",
   "version": "3.13.5"
  }
 },
 "nbformat": 4,
 "nbformat_minor": 5
}
