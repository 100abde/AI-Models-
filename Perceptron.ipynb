{
 "cells": [
  {
   "cell_type": "markdown",
   "id": "91570a3d",
   "metadata": {},
   "source": [
    "This Perceptron will be train to learn the AND logic"
   ]
  },
  {
   "cell_type": "markdown",
   "id": "26bd3e4c",
   "metadata": {},
   "source": [
    "Activation Function"
   ]
  },
  {
   "cell_type": "code",
   "execution_count": 2,
   "id": "15e4a1c4",
   "metadata": {},
   "outputs": [],
   "source": [
    "def step(z):\n",
    "    return 1 if z >= 0 else 0 "
   ]
  },
  {
   "cell_type": "markdown",
   "id": "45cbb77a",
   "metadata": {},
   "source": [
    "Predection Function"
   ]
  },
  {
   "cell_type": "code",
   "execution_count": 13,
   "id": "fd88be12",
   "metadata": {},
   "outputs": [],
   "source": [
    "def prediction(x,w,b):\n",
    "     z = sum( xi*wi for xi,wi in zip(x,w) )+ b\n",
    "\n",
    "     return step(z)"
   ]
  },
  {
   "cell_type": "markdown",
   "id": "b7758569",
   "metadata": {},
   "source": [
    "Training the model "
   ]
  },
  {
   "cell_type": "code",
   "execution_count": 19,
   "id": "e665dbb2",
   "metadata": {},
   "outputs": [],
   "source": [
    "def Training(Data , epochs, lr ):\n",
    "    w = [0.0 , 0.0]\n",
    "    b = 0.0\n",
    "\n",
    "    for epoch in range(epochs):\n",
    "        print(f\"epoch = {epoch+1}\")\n",
    "        for x , y in Data :\n",
    "            pred = prediction(x,w,b)\n",
    "            error = y - pred\n",
    "            w = [wi + error*lr*xi for wi , xi in zip(w,x) ]\n",
    "            b = b + lr*error\n",
    "\n",
    "            print(f\"  Input: {x}, Target: {y}, Prediction: {pred}, Weights: {w}, Bias: {b}\")\n",
    "    return w , b \n"
   ]
  },
  {
   "cell_type": "markdown",
   "id": "0f6eb19e",
   "metadata": {},
   "source": [
    "Testing"
   ]
  },
  {
   "cell_type": "code",
   "execution_count": 15,
   "id": "8b74f687",
   "metadata": {},
   "outputs": [],
   "source": [
    "def test(w , b ):\n",
    "    print(\"/n testing the model \")\n",
    "    for x1 in [0,1]:\n",
    "        for x2 in [0,1]:\n",
    "            y = prediction([x1 , x2] , w , b)\n",
    "            print(f\"Input: {[x1, x2]} → Output: {y}\")\n"
   ]
  },
  {
   "cell_type": "markdown",
   "id": "822557bc",
   "metadata": {},
   "source": [
    "Main Function"
   ]
  },
  {
   "cell_type": "code",
   "execution_count": 20,
   "id": "024942d4",
   "metadata": {},
   "outputs": [
    {
     "name": "stdout",
     "output_type": "stream",
     "text": [
      "epoch = 1\n",
      "  Input: [0, 0], Target: 0, Prediction: 1, Weights: [0.0, 0.0], Bias: -0.1\n",
      "  Input: [0, 1], Target: 0, Prediction: 0, Weights: [0.0, 0.0], Bias: -0.1\n",
      "  Input: [1, 0], Target: 0, Prediction: 0, Weights: [0.0, 0.0], Bias: -0.1\n",
      "  Input: [1, 1], Target: 1, Prediction: 0, Weights: [0.1, 0.1], Bias: 0.0\n",
      "epoch = 2\n",
      "  Input: [0, 0], Target: 0, Prediction: 1, Weights: [0.1, 0.1], Bias: -0.1\n",
      "  Input: [0, 1], Target: 0, Prediction: 1, Weights: [0.1, 0.0], Bias: -0.2\n",
      "  Input: [1, 0], Target: 0, Prediction: 0, Weights: [0.1, 0.0], Bias: -0.2\n",
      "  Input: [1, 1], Target: 1, Prediction: 0, Weights: [0.2, 0.1], Bias: -0.1\n",
      "epoch = 3\n",
      "  Input: [0, 0], Target: 0, Prediction: 0, Weights: [0.2, 0.1], Bias: -0.1\n",
      "  Input: [0, 1], Target: 0, Prediction: 1, Weights: [0.2, 0.0], Bias: -0.2\n",
      "  Input: [1, 0], Target: 0, Prediction: 1, Weights: [0.1, 0.0], Bias: -0.30000000000000004\n",
      "  Input: [1, 1], Target: 1, Prediction: 0, Weights: [0.2, 0.1], Bias: -0.20000000000000004\n",
      "epoch = 4\n",
      "  Input: [0, 0], Target: 0, Prediction: 0, Weights: [0.2, 0.1], Bias: -0.20000000000000004\n",
      "  Input: [0, 1], Target: 0, Prediction: 0, Weights: [0.2, 0.1], Bias: -0.20000000000000004\n",
      "  Input: [1, 0], Target: 0, Prediction: 0, Weights: [0.2, 0.1], Bias: -0.20000000000000004\n",
      "  Input: [1, 1], Target: 1, Prediction: 1, Weights: [0.2, 0.1], Bias: -0.20000000000000004\n",
      "epoch = 5\n",
      "  Input: [0, 0], Target: 0, Prediction: 0, Weights: [0.2, 0.1], Bias: -0.20000000000000004\n",
      "  Input: [0, 1], Target: 0, Prediction: 0, Weights: [0.2, 0.1], Bias: -0.20000000000000004\n",
      "  Input: [1, 0], Target: 0, Prediction: 0, Weights: [0.2, 0.1], Bias: -0.20000000000000004\n",
      "  Input: [1, 1], Target: 1, Prediction: 1, Weights: [0.2, 0.1], Bias: -0.20000000000000004\n",
      "epoch = 6\n",
      "  Input: [0, 0], Target: 0, Prediction: 0, Weights: [0.2, 0.1], Bias: -0.20000000000000004\n",
      "  Input: [0, 1], Target: 0, Prediction: 0, Weights: [0.2, 0.1], Bias: -0.20000000000000004\n",
      "  Input: [1, 0], Target: 0, Prediction: 0, Weights: [0.2, 0.1], Bias: -0.20000000000000004\n",
      "  Input: [1, 1], Target: 1, Prediction: 1, Weights: [0.2, 0.1], Bias: -0.20000000000000004\n",
      "epoch = 7\n",
      "  Input: [0, 0], Target: 0, Prediction: 0, Weights: [0.2, 0.1], Bias: -0.20000000000000004\n",
      "  Input: [0, 1], Target: 0, Prediction: 0, Weights: [0.2, 0.1], Bias: -0.20000000000000004\n",
      "  Input: [1, 0], Target: 0, Prediction: 0, Weights: [0.2, 0.1], Bias: -0.20000000000000004\n",
      "  Input: [1, 1], Target: 1, Prediction: 1, Weights: [0.2, 0.1], Bias: -0.20000000000000004\n",
      "epoch = 8\n",
      "  Input: [0, 0], Target: 0, Prediction: 0, Weights: [0.2, 0.1], Bias: -0.20000000000000004\n",
      "  Input: [0, 1], Target: 0, Prediction: 0, Weights: [0.2, 0.1], Bias: -0.20000000000000004\n",
      "  Input: [1, 0], Target: 0, Prediction: 0, Weights: [0.2, 0.1], Bias: -0.20000000000000004\n",
      "  Input: [1, 1], Target: 1, Prediction: 1, Weights: [0.2, 0.1], Bias: -0.20000000000000004\n",
      "epoch = 9\n",
      "  Input: [0, 0], Target: 0, Prediction: 0, Weights: [0.2, 0.1], Bias: -0.20000000000000004\n",
      "  Input: [0, 1], Target: 0, Prediction: 0, Weights: [0.2, 0.1], Bias: -0.20000000000000004\n",
      "  Input: [1, 0], Target: 0, Prediction: 0, Weights: [0.2, 0.1], Bias: -0.20000000000000004\n",
      "  Input: [1, 1], Target: 1, Prediction: 1, Weights: [0.2, 0.1], Bias: -0.20000000000000004\n",
      "epoch = 10\n",
      "  Input: [0, 0], Target: 0, Prediction: 0, Weights: [0.2, 0.1], Bias: -0.20000000000000004\n",
      "  Input: [0, 1], Target: 0, Prediction: 0, Weights: [0.2, 0.1], Bias: -0.20000000000000004\n",
      "  Input: [1, 0], Target: 0, Prediction: 0, Weights: [0.2, 0.1], Bias: -0.20000000000000004\n",
      "  Input: [1, 1], Target: 1, Prediction: 1, Weights: [0.2, 0.1], Bias: -0.20000000000000004\n",
      "/n testing the model \n",
      "Input: [0, 0] → Output: 0\n",
      "Input: [0, 1] → Output: 0\n",
      "Input: [1, 0] → Output: 0\n",
      "Input: [1, 1] → Output: 1\n"
     ]
    }
   ],
   "source": [
    "if __name__ == \"__main__\":\n",
    "    # Truth table for AND gate\n",
    "    training_data = [\n",
    "        ([0, 0], 0),\n",
    "        ([0, 1], 0),\n",
    "        ([1, 0], 0),\n",
    "        ([1, 1], 1)\n",
    "    ]\n",
    "    w, b = Training(training_data, lr=0.1, epochs=10)\n",
    "    test(w, b)\n"
   ]
  },
  {
   "cell_type": "markdown",
   "id": "8c1c9989",
   "metadata": {},
   "source": []
  }
 ],
 "metadata": {
  "kernelspec": {
   "display_name": "Python 3",
   "language": "python",
   "name": "python3"
  },
  "language_info": {
   "codemirror_mode": {
    "name": "ipython",
    "version": 3
   },
   "file_extension": ".py",
   "mimetype": "text/x-python",
   "name": "python",
   "nbconvert_exporter": "python",
   "pygments_lexer": "ipython3",
   "version": "3.13.5"
  }
 },
 "nbformat": 4,
 "nbformat_minor": 5
}
